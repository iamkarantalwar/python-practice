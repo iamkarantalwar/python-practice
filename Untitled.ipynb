{
 "cells": [
  {
   "cell_type": "code",
   "execution_count": 2,
   "metadata": {},
   "outputs": [],
   "source": [
    "# Write a function that will output \"Hello World\" on the screen"
   ]
  },
  {
   "cell_type": "code",
   "execution_count": 3,
   "metadata": {},
   "outputs": [],
   "source": [
    "def func():\n",
    "    print(\"Hello World\")"
   ]
  },
  {
   "cell_type": "code",
   "execution_count": 4,
   "metadata": {},
   "outputs": [
    {
     "name": "stdout",
     "output_type": "stream",
     "text": [
      "Hello World\n"
     ]
    }
   ],
   "source": [
    "func()"
   ]
  },
  {
   "cell_type": "code",
   "execution_count": 5,
   "metadata": {},
   "outputs": [],
   "source": [
    "# Write a function of type w/o Argument and W Return Type \n",
    "# and output \"Hello World\" on the screen"
   ]
  },
  {
   "cell_type": "code",
   "execution_count": 9,
   "metadata": {},
   "outputs": [],
   "source": [
    "def func_one():\n",
    "    return \"Hello World\""
   ]
  },
  {
   "cell_type": "code",
   "execution_count": 10,
   "metadata": {},
   "outputs": [
    {
     "data": {
      "text/plain": [
       "'Hello World'"
      ]
     },
     "execution_count": 10,
     "metadata": {},
     "output_type": "execute_result"
    }
   ],
   "source": [
    "func_one()"
   ]
  },
  {
   "cell_type": "code",
   "execution_count": 2,
   "metadata": {},
   "outputs": [
    {
     "name": "stdout",
     "output_type": "stream",
     "text": [
      "[1, 2, 3, 4, 5, 6, 7, 8, 9, 10, 11, 12, 13, 14, 15, 16, 17, 18, 19, 20, 21, 22, 23, 24, 25, 26, 27, 28, 29, 30, 31, 32, 33, 34, 35, 36, 37, 38, 39, 40, 41, 42, 43, 44, 45, 46, 47, 48, 49, 50]\n"
     ]
    }
   ],
   "source": [
    "# We have to create a list that contains 1-50 Real Numbers. \n",
    "# How can you achieve ?\n",
    "x = []\n",
    "for i in range(1, 51):\n",
    "    x.append(i)\n",
    "print(x)"
   ]
  },
  {
   "cell_type": "code",
   "execution_count": 3,
   "metadata": {},
   "outputs": [
    {
     "name": "stdout",
     "output_type": "stream",
     "text": [
      "[2, 4, 6, 8, 10, 12, 14, 16, 18, 20, 22, 24, 26, 28, 30, 32, 34, 36, 38, 40, 42, 44, 46, 48, 50]\n"
     ]
    }
   ],
   "source": [
    "# We have to create a list that contains Even Real Numbers. \n",
    "# How can you achieve ?\n",
    "x = []\n",
    "for i in range(1, 51):\n",
    "    if i % 2 ==0:\n",
    "        x.append(i)\n",
    "print(x)"
   ]
  },
  {
   "cell_type": "code",
   "execution_count": 9,
   "metadata": {},
   "outputs": [
    {
     "name": "stdout",
     "output_type": "stream",
     "text": [
      "[11, 22, 33, 44]\n"
     ]
    }
   ],
   "source": [
    "# We have to create a list that contains numbers that are exactly divisible by 11. \n",
    "# How can you achieve ?\n",
    "x = []\n",
    "for i in range(11, 51, 11):\n",
    "    x.append(i*3)\n",
    "print(x)"
   ]
  },
  {
   "cell_type": "code",
   "execution_count": 13,
   "metadata": {},
   "outputs": [
    {
     "name": "stdout",
     "output_type": "stream",
     "text": [
      "[33, 66, 99, 132]\n"
     ]
    }
   ],
   "source": [
    "# Can you achieve this without using Conditional Statement i.e. if-else\n",
    "# 1. Find even numbers between 1,50\n",
    "# 2. Find all the numbers that're divisible by eleven and lies between 1 to 50.\n",
    "#List Comprehension\n",
    "x = [ i*3 for i in range(11, 51, 11) ]\n",
    "print(x)"
   ]
  },
  {
   "cell_type": "code",
   "execution_count": 18,
   "metadata": {},
   "outputs": [],
   "source": [
    "#With Argument and With Return Type\n",
    "\n",
    "#Lambda for a single line return statement\n",
    "def add_me(x, y):\n",
    "    return (x+y)\n",
    "# Lambda Functions W Return Type\n",
    "add_me_abdje = lambda x, y : (x + y)"
   ]
  },
  {
   "cell_type": "code",
   "execution_count": 19,
   "metadata": {},
   "outputs": [
    {
     "data": {
      "text/plain": [
       "30"
      ]
     },
     "execution_count": 19,
     "metadata": {},
     "output_type": "execute_result"
    }
   ],
   "source": [
    "add_me(10, 20)"
   ]
  },
  {
   "cell_type": "code",
   "execution_count": 20,
   "metadata": {},
   "outputs": [
    {
     "data": {
      "text/plain": [
       "70"
      ]
     },
     "execution_count": 20,
     "metadata": {},
     "output_type": "execute_result"
    }
   ],
   "source": [
    "add_me_abdje(30, 40)"
   ]
  },
  {
   "cell_type": "code",
   "execution_count": 21,
   "metadata": {},
   "outputs": [],
   "source": [
    "#Without Argument and With Return Type\n",
    "def func():\n",
    "    return \"Hello world\"\n",
    "\n",
    "my_lamb = lambda : \"Hello World\"\n"
   ]
  },
  {
   "cell_type": "code",
   "execution_count": 22,
   "metadata": {},
   "outputs": [
    {
     "data": {
      "text/plain": [
       "'Hello world'"
      ]
     },
     "execution_count": 22,
     "metadata": {},
     "output_type": "execute_result"
    }
   ],
   "source": [
    "func()"
   ]
  },
  {
   "cell_type": "code",
   "execution_count": 23,
   "metadata": {},
   "outputs": [
    {
     "data": {
      "text/plain": [
       "'Hello World'"
      ]
     },
     "execution_count": 23,
     "metadata": {},
     "output_type": "execute_result"
    }
   ],
   "source": [
    "my_lamb()"
   ]
  },
  {
   "cell_type": "code",
   "execution_count": 25,
   "metadata": {},
   "outputs": [
    {
     "name": "stdout",
     "output_type": "stream",
     "text": [
      "2\n",
      "3\n",
      "5\n",
      "7\n",
      "11\n",
      "13\n",
      "17\n",
      "19\n",
      "23\n",
      "29\n",
      "31\n",
      "37\n",
      "41\n",
      "43\n",
      "47\n"
     ]
    }
   ],
   "source": [
    "# Find Prime Numbers between 1 to 50\n",
    "for i in range(2, 51):\n",
    "    prime = True\n",
    "    for j in range(2, i):\n",
    "        if i % j == 0:\n",
    "            prime = False\n",
    "            break\n",
    "    if prime:\n",
    "        print(i)"
   ]
  },
  {
   "cell_type": "code",
   "execution_count": 27,
   "metadata": {},
   "outputs": [
    {
     "name": "stdout",
     "output_type": "stream",
     "text": [
      "I'm Now Breaked 2\n"
     ]
    }
   ],
   "source": [
    "for i in range(2,10):\n",
    "    if 10 % i == 0:\n",
    "        print(\"I'm Now Breaked\", i)\n",
    "        break\n",
    "else:\n",
    "    print(\"I'm in else\", i)"
   ]
  },
  {
   "cell_type": "code",
   "execution_count": 11,
   "metadata": {},
   "outputs": [
    {
     "name": "stdout",
     "output_type": "stream",
     "text": [
      "My Class X\n",
      "My Class X\n",
      "Hello world\n"
     ]
    }
   ],
   "source": [
    "#Classes and Object\n",
    "class Test:\n",
    "    x = \"My Class X\"\n",
    "    y = None\n",
    "    \n",
    "    def xyz(self):\n",
    "        print(self.x)\n",
    "        print(\"Hello world\")\n",
    "        \n",
    "c_one = Test()\n",
    "print(c_one.x)\n",
    "c_one.xyz()\n",
    "\n",
    "        \n",
    "    "
   ]
  },
  {
   "cell_type": "code",
   "execution_count": 8,
   "metadata": {},
   "outputs": [
    {
     "name": "stdout",
     "output_type": "stream",
     "text": [
      "I'm Karan\n"
     ]
    }
   ],
   "source": [
    "def xyz(x):\n",
    "    print(\"I'm Karan\")\n",
    "    \n",
    "xyz(12)"
   ]
  },
  {
   "cell_type": "code",
   "execution_count": 3,
   "metadata": {},
   "outputs": [],
   "source": [
    "class Test:\n",
    "    # This is a constructor\n",
    "    def __init__(self):\n",
    "        print(\"Hello, I'm from __init__.\")\n",
    "    \n",
    "    # This is not a constructor\n",
    "    def _init_(self):\n",
    "        print(\"Hello, I'm fro _init_\")\n",
    "        "
   ]
  },
  {
   "cell_type": "code",
   "execution_count": 4,
   "metadata": {},
   "outputs": [
    {
     "name": "stdout",
     "output_type": "stream",
     "text": [
      "Hello, I'm from __init__.\n"
     ]
    }
   ],
   "source": [
    "t = Test()"
   ]
  },
  {
   "cell_type": "code",
   "execution_count": 5,
   "metadata": {},
   "outputs": [
    {
     "name": "stdout",
     "output_type": "stream",
     "text": [
      "Hello, I'm fro _init_\n"
     ]
    }
   ],
   "source": [
    "t._init_()"
   ]
  },
  {
   "cell_type": "code",
   "execution_count": 7,
   "metadata": {},
   "outputs": [],
   "source": [
    "class Calculator:\n",
    "    def multiply(self, x, y):\n",
    "        return x*y\n",
    "    \n",
    "    def add(self, x, y):\n",
    "        return x+y\n",
    "    \n",
    "    def divide(self, x, y):\n",
    "        return x/y\n",
    "    \n",
    "    def subtract(self, x, y):\n",
    "        return x-y"
   ]
  },
  {
   "cell_type": "code",
   "execution_count": 8,
   "metadata": {},
   "outputs": [],
   "source": []
  },
  {
   "cell_type": "code",
   "execution_count": 9,
   "metadata": {},
   "outputs": [],
   "source": [
    "c = Calculator(x, y)"
   ]
  },
  {
   "cell_type": "code",
   "execution_count": 11,
   "metadata": {},
   "outputs": [
    {
     "data": {
      "text/plain": [
       "30"
      ]
     },
     "execution_count": 11,
     "metadata": {},
     "output_type": "execute_result"
    }
   ],
   "source": [
    "c.add()"
   ]
  },
  {
   "cell_type": "code",
   "execution_count": 12,
   "metadata": {},
   "outputs": [
    {
     "data": {
      "text/plain": [
       "200"
      ]
     },
     "execution_count": 12,
     "metadata": {},
     "output_type": "execute_result"
    }
   ],
   "source": [
    "c.multiply()"
   ]
  },
  {
   "cell_type": "code",
   "execution_count": 18,
   "metadata": {},
   "outputs": [],
   "source": [
    "x = 10\n",
    "y = 20\n",
    "\n",
    "class Test:\n",
    "    x = None\n",
    "    y = None\n",
    "    # This is a constructor\n",
    "    def __init__(self, x, y):\n",
    "        self.x = x\n",
    "        self.y = y\n",
    "        \n",
    "    def add(self):\n",
    "        return self.x + self.y\n",
    "        \n",
    "    \n",
    "t = Test(x, y)"
   ]
  },
  {
   "cell_type": "code",
   "execution_count": 19,
   "metadata": {},
   "outputs": [
    {
     "data": {
      "text/plain": [
       "30"
      ]
     },
     "execution_count": 19,
     "metadata": {},
     "output_type": "execute_result"
    }
   ],
   "source": [
    "t.add()"
   ]
  },
  {
   "cell_type": "code",
   "execution_count": 22,
   "metadata": {},
   "outputs": [],
   "source": [
    "x = []"
   ]
  },
  {
   "cell_type": "code",
   "execution_count": 25,
   "metadata": {},
   "outputs": [
    {
     "data": {
      "text/plain": [
       "[10, 20]"
      ]
     },
     "execution_count": 25,
     "metadata": {},
     "output_type": "execute_result"
    }
   ],
   "source": [
    "x + [10] + [20]"
   ]
  },
  {
   "cell_type": "code",
   "execution_count": 26,
   "metadata": {},
   "outputs": [
    {
     "data": {
      "text/plain": [
       "[]"
      ]
     },
     "execution_count": 26,
     "metadata": {},
     "output_type": "execute_result"
    }
   ],
   "source": [
    "[] * 2"
   ]
  },
  {
   "cell_type": "code",
   "execution_count": 27,
   "metadata": {},
   "outputs": [
    {
     "data": {
      "text/plain": [
       "[[], []]"
      ]
     },
     "execution_count": 27,
     "metadata": {},
     "output_type": "execute_result"
    }
   ],
   "source": [
    "[[]]*2"
   ]
  },
  {
   "cell_type": "code",
   "execution_count": 28,
   "metadata": {},
   "outputs": [
    {
     "data": {
      "text/plain": [
       "[]"
      ]
     },
     "execution_count": 28,
     "metadata": {},
     "output_type": "execute_result"
    }
   ],
   "source": [
    "[]*2"
   ]
  },
  {
   "cell_type": "code",
   "execution_count": 29,
   "metadata": {},
   "outputs": [
    {
     "data": {
      "text/plain": [
       "[[], [], [], []]"
      ]
     },
     "execution_count": 29,
     "metadata": {},
     "output_type": "execute_result"
    }
   ],
   "source": [
    "[[], []]*2"
   ]
  },
  {
   "cell_type": "code",
   "execution_count": 30,
   "metadata": {},
   "outputs": [
    {
     "data": {
      "text/plain": [
       "[[[], []], [[], []], [[], []], [[], []]]"
      ]
     },
     "execution_count": 30,
     "metadata": {},
     "output_type": "execute_result"
    }
   ],
   "source": [
    "[[[], []], [[], []]]*2"
   ]
  },
  {
   "cell_type": "code",
   "execution_count": 31,
   "metadata": {},
   "outputs": [],
   "source": [
    "import numpy as np"
   ]
  },
  {
   "cell_type": "code",
   "execution_count": 32,
   "metadata": {},
   "outputs": [],
   "source": [
    "x = np.array([[[], []], [[], []]]*2)"
   ]
  },
  {
   "cell_type": "code",
   "execution_count": 33,
   "metadata": {},
   "outputs": [
    {
     "data": {
      "text/plain": [
       "3"
      ]
     },
     "execution_count": 33,
     "metadata": {},
     "output_type": "execute_result"
    }
   ],
   "source": [
    "x.ndim"
   ]
  },
  {
   "cell_type": "code",
   "execution_count": 34,
   "metadata": {},
   "outputs": [
    {
     "data": {
      "text/plain": [
       "(4, 2, 0)"
      ]
     },
     "execution_count": 34,
     "metadata": {},
     "output_type": "execute_result"
    }
   ],
   "source": [
    "x.shape"
   ]
  },
  {
   "cell_type": "code",
   "execution_count": 35,
   "metadata": {},
   "outputs": [
    {
     "data": {
      "text/plain": [
       "array([], shape=(2, 0), dtype=float64)"
      ]
     },
     "execution_count": 35,
     "metadata": {},
     "output_type": "execute_result"
    }
   ],
   "source": [
    "x[0]"
   ]
  },
  {
   "cell_type": "code",
   "execution_count": 36,
   "metadata": {},
   "outputs": [
    {
     "data": {
      "text/plain": [
       "array([], dtype=float64)"
      ]
     },
     "execution_count": 36,
     "metadata": {},
     "output_type": "execute_result"
    }
   ],
   "source": [
    "x[0][0]"
   ]
  },
  {
   "cell_type": "markdown",
   "metadata": {},
   "source": [
    "class Abc:\n",
    "    x = []\n",
    "    y = []\n",
    "    for i in range(10):\n",
    "        print(i)"
   ]
  },
  {
   "cell_type": "code",
   "execution_count": null,
   "metadata": {},
   "outputs": [],
   "source": []
  },
  {
   "cell_type": "code",
   "execution_count": null,
   "metadata": {},
   "outputs": [],
   "source": []
  },
  {
   "cell_type": "code",
   "execution_count": 39,
   "metadata": {},
   "outputs": [],
   "source": [
    "x = Abc()"
   ]
  },
  {
   "cell_type": "code",
   "execution_count": 40,
   "metadata": {},
   "outputs": [
    {
     "data": {
      "text/plain": [
       "[[21, 31, 41], [21, 31, 41]]"
      ]
     },
     "execution_count": 40,
     "metadata": {},
     "output_type": "execute_result"
    }
   ],
   "source": [
    "[[21, 31, 41]] + [[21, 31, 41]]"
   ]
  },
  {
   "cell_type": "code",
   "execution_count": 53,
   "metadata": {},
   "outputs": [],
   "source": [
    "x = [10, 20, 30, 40]"
   ]
  },
  {
   "cell_type": "code",
   "execution_count": 54,
   "metadata": {},
   "outputs": [],
   "source": [
    "y = map(lambda a : (a * 2), x)"
   ]
  },
  {
   "cell_type": "code",
   "execution_count": 57,
   "metadata": {},
   "outputs": [
    {
     "data": {
      "text/plain": [
       "[]"
      ]
     },
     "execution_count": 57,
     "metadata": {},
     "output_type": "execute_result"
    }
   ],
   "source": [
    "list(y)"
   ]
  },
  {
   "cell_type": "code",
   "execution_count": 58,
   "metadata": {},
   "outputs": [],
   "source": [
    "x = \"123\""
   ]
  },
  {
   "cell_type": "code",
   "execution_count": 59,
   "metadata": {},
   "outputs": [
    {
     "data": {
      "text/plain": [
       "123"
      ]
     },
     "execution_count": 59,
     "metadata": {},
     "output_type": "execute_result"
    }
   ],
   "source": [
    "int(x)"
   ]
  },
  {
   "cell_type": "code",
   "execution_count": 15,
   "metadata": {},
   "outputs": [],
   "source": [
    "from bs4 import BeautifulSoup"
   ]
  },
  {
   "cell_type": "code",
   "execution_count": 39,
   "metadata": {},
   "outputs": [],
   "source": [
    "text ='''<select name=\"category\" id=\"category\" class=\"form-control\" tabindex=\"-1\" title=\"\" style=\"\">\n",
    "                        \n",
    "\n",
    "                    <option value=\"\">Select Category</option><option value=\"190\">REVERSE CYCLE DUCTED SYSTEM SINGLE PHASE</option><option value=\"191\">REVERSE CYCLE SPLIT SYSTEM</option><option value=\"193\">GENERAL SERVICE</option><option value=\"200\">ROOM AIR CONDITIONER (RAC)</option><option value=\"202\">EVAPORATIVE COOLING</option><option value=\"203\">AIR CURTAIN</option><option value=\"207\">REVERSE CYCLE SPLIT SYSTEM/NON STANDARD</option><option value=\"213\">ROOM AIR CONDITIONER (RAC) NON STANDARD</option><option value=\"222\">REVERSE CYCLE DUCTED SYSTEM THREE PHASE</option><option value=\"226\">REVERSE CYCLE DUCTED SYSTEM SINGLE PHASE/NON STAND</option><option value=\"227\">REVERSE CYCLE DUCTED SYSTEM THREE PHASE/NON STANDA</option><option value=\"243\">BREAK DOWNS</option><option value=\"248\">GAS DUCTED HEATING</option></select>'''\n",
    "c = BeautifulSoup(text, 'html')"
   ]
  },
  {
   "cell_type": "code",
   "execution_count": 40,
   "metadata": {},
   "outputs": [],
   "source": [
    "HVAC = []\n",
    "for i in c.find_all(\"option\"):\n",
    "    HVAC.append({ \n",
    "        \"id\": i['value'],\n",
    "        \"name\": i.text,\n",
    "        \"dept_id\": 3\n",
    "    })\n",
    "    "
   ]
  },
  {
   "cell_type": "code",
   "execution_count": 11,
   "metadata": {},
   "outputs": [],
   "source": [
    "PLUMBING = PLUMBING[1:]"
   ]
  },
  {
   "cell_type": "code",
   "execution_count": 26,
   "metadata": {},
   "outputs": [],
   "source": [
    "ELECTRICAL = ELECTRICAL[1:]"
   ]
  },
  {
   "cell_type": "code",
   "execution_count": 37,
   "metadata": {},
   "outputs": [
    {
     "data": {
      "text/plain": [
       "[{'id': '153', 'name': 'Appliance Connection', 'dept_id': 2},\n",
       " {'id': '154', 'name': 'Disconnection', 'dept_id': 2},\n",
       " {'id': '155', 'name': 'Cable installation', 'dept_id': 2},\n",
       " {'id': '156', 'name': 'Earthing', 'dept_id': 2},\n",
       " {'id': '157', 'name': 'Fault finding', 'dept_id': 2},\n",
       " {'id': '158', 'name': 'Ceiling fan', 'dept_id': 2},\n",
       " {'id': '159', 'name': 'Exhaust fan/IXL', 'dept_id': 2},\n",
       " {'id': '160', 'name': 'Lighting', 'dept_id': 2},\n",
       " {'id': '161', 'name': 'Power outlets', 'dept_id': 2},\n",
       " {'id': '162', 'name': 'RCD/Circuit Protection', 'dept_id': 2},\n",
       " {'id': '163', 'name': 'Service upgrades', 'dept_id': 2},\n",
       " {'id': '164', 'name': 'Smoke detectors', 'dept_id': 2},\n",
       " {'id': '165', 'name': 'Switches', 'dept_id': 2},\n",
       " {'id': '166', 'name': 'Timers/sensors', 'dept_id': 2},\n",
       " {'id': '167', 'name': 'Transformers', 'dept_id': 2},\n",
       " {'id': '168', 'name': 'TV/Data', 'dept_id': 2},\n",
       " {'id': '199', 'name': 'Electrical Matrix', 'dept_id': 2}]"
      ]
     },
     "execution_count": 37,
     "metadata": {},
     "output_type": "execute_result"
    }
   ],
   "source": [
    "ELECTRICAL"
   ]
  },
  {
   "cell_type": "code",
   "execution_count": 38,
   "metadata": {},
   "outputs": [
    {
     "data": {
      "text/plain": [
       "[{'id': '100', 'name': 'Tapware', 'dept_id': 1},\n",
       " {'id': '103', 'name': 'Toilet', 'dept_id': 1},\n",
       " {'id': '104', 'name': 'Valves', 'dept_id': 1},\n",
       " {'id': '105', 'name': 'Gas', 'dept_id': 1},\n",
       " {'id': '106', 'name': 'Hot Water', 'dept_id': 1},\n",
       " {'id': '107', 'name': 'Pipe Servicing', 'dept_id': 1},\n",
       " {'id': '108', 'name': 'PC Items', 'dept_id': 1},\n",
       " {'id': '110', 'name': 'Testing', 'dept_id': 1},\n",
       " {'id': '111', 'name': 'Drainage', 'dept_id': 1},\n",
       " {'id': '112', 'name': 'Roofing', 'dept_id': 1},\n",
       " {'id': '113', 'name': 'Renovations', 'dept_id': 1},\n",
       " {'id': '114', 'name': 'Wet areas', 'dept_id': 1},\n",
       " {'id': '115', 'name': 'Misc', 'dept_id': 1},\n",
       " {'id': '152', 'name': 'Pumps', 'dept_id': 1},\n",
       " {'id': '183', 'name': 'Filtration', 'dept_id': 1},\n",
       " {'id': '188', 'name': 'Utilities', 'dept_id': 1}]"
      ]
     },
     "execution_count": 38,
     "metadata": {},
     "output_type": "execute_result"
    }
   ],
   "source": [
    "PLUMBING"
   ]
  },
  {
   "cell_type": "code",
   "execution_count": 42,
   "metadata": {},
   "outputs": [],
   "source": [
    "HVAC = HVAC[1:]"
   ]
  },
  {
   "cell_type": "code",
   "execution_count": 43,
   "metadata": {},
   "outputs": [
    {
     "data": {
      "text/plain": [
       "[{'id': '190',\n",
       "  'name': 'REVERSE CYCLE DUCTED SYSTEM SINGLE PHASE',\n",
       "  'dept_id': 3},\n",
       " {'id': '191', 'name': 'REVERSE CYCLE SPLIT SYSTEM', 'dept_id': 3},\n",
       " {'id': '193', 'name': 'GENERAL SERVICE', 'dept_id': 3},\n",
       " {'id': '200', 'name': 'ROOM AIR CONDITIONER (RAC)', 'dept_id': 3},\n",
       " {'id': '202', 'name': 'EVAPORATIVE COOLING', 'dept_id': 3},\n",
       " {'id': '203', 'name': 'AIR CURTAIN', 'dept_id': 3},\n",
       " {'id': '207',\n",
       "  'name': 'REVERSE CYCLE SPLIT SYSTEM/NON STANDARD',\n",
       "  'dept_id': 3},\n",
       " {'id': '213',\n",
       "  'name': 'ROOM AIR CONDITIONER (RAC) NON STANDARD',\n",
       "  'dept_id': 3},\n",
       " {'id': '222',\n",
       "  'name': 'REVERSE CYCLE DUCTED SYSTEM THREE PHASE',\n",
       "  'dept_id': 3},\n",
       " {'id': '226',\n",
       "  'name': 'REVERSE CYCLE DUCTED SYSTEM SINGLE PHASE/NON STAND',\n",
       "  'dept_id': 3},\n",
       " {'id': '227',\n",
       "  'name': 'REVERSE CYCLE DUCTED SYSTEM THREE PHASE/NON STANDA',\n",
       "  'dept_id': 3},\n",
       " {'id': '243', 'name': 'BREAK DOWNS', 'dept_id': 3},\n",
       " {'id': '248', 'name': 'GAS DUCTED HEATING', 'dept_id': 3}]"
      ]
     },
     "execution_count": 43,
     "metadata": {},
     "output_type": "execute_result"
    }
   ],
   "source": [
    "HVAC"
   ]
  },
  {
   "cell_type": "code",
   "execution_count": 44,
   "metadata": {},
   "outputs": [],
   "source": [
    "data = PLUMBING + ELECTRICAL + HVAC"
   ]
  },
  {
   "cell_type": "code",
   "execution_count": 46,
   "metadata": {},
   "outputs": [
    {
     "data": {
      "text/plain": [
       "'[{\"id\": \"100\", \"name\": \"Tapware\", \"dept_id\": 1}, {\"id\": \"103\", \"name\": \"Toilet\", \"dept_id\": 1}, {\"id\": \"104\", \"name\": \"Valves\", \"dept_id\": 1}, {\"id\": \"105\", \"name\": \"Gas\", \"dept_id\": 1}, {\"id\": \"106\", \"name\": \"Hot Water\", \"dept_id\": 1}, {\"id\": \"107\", \"name\": \"Pipe Servicing\", \"dept_id\": 1}, {\"id\": \"108\", \"name\": \"PC Items\", \"dept_id\": 1}, {\"id\": \"110\", \"name\": \"Testing\", \"dept_id\": 1}, {\"id\": \"111\", \"name\": \"Drainage\", \"dept_id\": 1}, {\"id\": \"112\", \"name\": \"Roofing\", \"dept_id\": 1}, {\"id\": \"113\", \"name\": \"Renovations\", \"dept_id\": 1}, {\"id\": \"114\", \"name\": \"Wet areas\", \"dept_id\": 1}, {\"id\": \"115\", \"name\": \"Misc\", \"dept_id\": 1}, {\"id\": \"152\", \"name\": \"Pumps\", \"dept_id\": 1}, {\"id\": \"183\", \"name\": \"Filtration\", \"dept_id\": 1}, {\"id\": \"188\", \"name\": \"Utilities\", \"dept_id\": 1}, {\"id\": \"153\", \"name\": \"Appliance Connection\", \"dept_id\": 2}, {\"id\": \"154\", \"name\": \"Disconnection\", \"dept_id\": 2}, {\"id\": \"155\", \"name\": \"Cable installation\", \"dept_id\": 2}, {\"id\": \"156\", \"name\": \"Earthing\", \"dept_id\": 2}, {\"id\": \"157\", \"name\": \"Fault finding\", \"dept_id\": 2}, {\"id\": \"158\", \"name\": \"Ceiling fan\", \"dept_id\": 2}, {\"id\": \"159\", \"name\": \"Exhaust fan/IXL\", \"dept_id\": 2}, {\"id\": \"160\", \"name\": \"Lighting\", \"dept_id\": 2}, {\"id\": \"161\", \"name\": \"Power outlets\", \"dept_id\": 2}, {\"id\": \"162\", \"name\": \"RCD/Circuit Protection\", \"dept_id\": 2}, {\"id\": \"163\", \"name\": \"Service upgrades\", \"dept_id\": 2}, {\"id\": \"164\", \"name\": \"Smoke detectors\", \"dept_id\": 2}, {\"id\": \"165\", \"name\": \"Switches\", \"dept_id\": 2}, {\"id\": \"166\", \"name\": \"Timers/sensors\", \"dept_id\": 2}, {\"id\": \"167\", \"name\": \"Transformers\", \"dept_id\": 2}, {\"id\": \"168\", \"name\": \"TV/Data\", \"dept_id\": 2}, {\"id\": \"199\", \"name\": \"Electrical Matrix\", \"dept_id\": 2}, {\"id\": \"190\", \"name\": \"REVERSE CYCLE DUCTED SYSTEM SINGLE PHASE\", \"dept_id\": 3}, {\"id\": \"191\", \"name\": \"REVERSE CYCLE SPLIT SYSTEM\", \"dept_id\": 3}, {\"id\": \"193\", \"name\": \"GENERAL SERVICE\", \"dept_id\": 3}, {\"id\": \"200\", \"name\": \"ROOM AIR CONDITIONER (RAC)\", \"dept_id\": 3}, {\"id\": \"202\", \"name\": \"EVAPORATIVE COOLING\", \"dept_id\": 3}, {\"id\": \"203\", \"name\": \"AIR CURTAIN\", \"dept_id\": 3}, {\"id\": \"207\", \"name\": \"REVERSE CYCLE SPLIT SYSTEM/NON STANDARD\", \"dept_id\": 3}, {\"id\": \"213\", \"name\": \"ROOM AIR CONDITIONER (RAC) NON STANDARD\", \"dept_id\": 3}, {\"id\": \"222\", \"name\": \"REVERSE CYCLE DUCTED SYSTEM THREE PHASE\", \"dept_id\": 3}, {\"id\": \"226\", \"name\": \"REVERSE CYCLE DUCTED SYSTEM SINGLE PHASE/NON STAND\", \"dept_id\": 3}, {\"id\": \"227\", \"name\": \"REVERSE CYCLE DUCTED SYSTEM THREE PHASE/NON STANDA\", \"dept_id\": 3}, {\"id\": \"243\", \"name\": \"BREAK DOWNS\", \"dept_id\": 3}, {\"id\": \"248\", \"name\": \"GAS DUCTED HEATING\", \"dept_id\": 3}]'"
      ]
     },
     "execution_count": 46,
     "metadata": {},
     "output_type": "execute_result"
    }
   ],
   "source": [
    "json.dumps(data)"
   ]
  },
  {
   "cell_type": "code",
   "execution_count": null,
   "metadata": {},
   "outputs": [],
   "source": []
  }
 ],
 "metadata": {
  "kernelspec": {
   "display_name": "Python 3",
   "language": "python",
   "name": "python3"
  },
  "language_info": {
   "codemirror_mode": {
    "name": "ipython",
    "version": 3
   },
   "file_extension": ".py",
   "mimetype": "text/x-python",
   "name": "python",
   "nbconvert_exporter": "python",
   "pygments_lexer": "ipython3",
   "version": "3.8.5"
  }
 },
 "nbformat": 4,
 "nbformat_minor": 4
}
